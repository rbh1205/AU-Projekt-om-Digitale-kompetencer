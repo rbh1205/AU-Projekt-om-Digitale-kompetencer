{
 "cells": [
  {
   "cell_type": "markdown",
   "id": "31b86a34-b17b-4cdd-97fe-936f4af0af72",
   "metadata": {},
   "source": [
    "# Statusmøde 1\n",
    "<font size=\"2\"> *Gennemgang af de første 2 uger med Charlotte, Claus og Kasper* </font>  "
   ]
  },
  {
   "attachments": {
    "5bcec8fe-3946-4c6c-9843-cc1ca3e44e50.png": {
     "image/png": "[encoded data removed]"
    }
   },
   "cell_type": "markdown",
   "id": "efd703f9-11bf-4ac9-9d77-47137e3de25a",
   "metadata": {},
   "source": [
    "![Au logo.png](attachment:5bcec8fe-3946-4c6c-9843-cc1ca3e44e50.png)"
   ]
  },
  {
   "cell_type": "markdown",
   "id": "b0940293-a68d-4770-9be5-458e393caa47",
   "metadata": {},
   "source": [
    "3 overordnede fokuspunkter"
   ]
  },
  {
   "cell_type": "markdown",
   "id": "5e0ced04-2a5f-4bc8-bb29-0ebc4cd0a286",
   "metadata": {
    "tags": []
   },
   "source": [
    "<details>\n",
    "    <summary><b>Overblik over status</b></summary>\n",
    "    <ul>\n",
    "        <li>Læse dokumenter fra Epinion undersøgelse og CED</li>\n",
    "        <li>Gennemgang af alle kurser på kursuskataloget</li>\n",
    "    </ul>\n",
    "     <div style=\"display: inline-block; vertical-align: top;\">\n",
    "        <img src=\"Fysisk biokemi.png\" width=\"500\" height=\"250\">\n",
    "    </div>\n",
    "    <div style=\"display: inline-block; vertical-align: top;\">\n",
    "        <img src=\"Genetik.png\" width=\"500\" height=\"250\">\n",
    "    </div>\n",
    "     <ul>\n",
    "        <li>23 ud af 36 nuværende kurser har ikke noget bioinformatisk eller \"fag-digitalt\" nævnt i kursusbeskrivelsen.</li>\n",
    "    </ul>\n",
    "    \n",
    "</details>\n",
    "\n",
    "<details>\n",
    "    <summary><b>Se ud i verden</b></summary>\n",
    "    <ul>\n",
    "        <li>Gennemgang af eksisterende litteratur fra universiteter i udlandet\n",
    "            <ul>\n",
    "                <li>Tysk arbejdsgruppe</li>\n",
    "                <li>Amerikanske universiteter og netværk</li>\n",
    "                    <ul>\n",
    "                        <li>NIBLSE <i>(Network for integrating bioinformatics into life sciences education)</i></li>\n",
    "                        <li>University of Wisconsin-La Crosse</li>\n",
    "                        <li>Kalamazoo College (Michigan)</li>\n",
    "                    </ul>\n",
    "                <li> <i> Ongoing.... </i> </li>\n",
    "            </ul>\n",
    "        </li>\n",
    "    </ul>\n",
    "    \n",
    "</details>\n",
    "\n",
    "<details>\n",
    "    <summary><b>Jupyter og Python</b></summary>\n",
    "    <ul>\n",
    "        <li>Genopfriskning af Python med kursus</li>\n",
    "        <li>Læst op på forskellige Python IDEs (integrated development environments)</li>\n",
    "            <ul>\n",
    "                <li>Google Colab</li>\n",
    "                <li>PyCharm</li>\n",
    "                <li>Visual Studio Code</li>\n",
    "                <li><b>JupyterLab</b></li>\n",
    "            </ul>\n",
    "        <li>JupyterLab</li>\n",
    "            <ul>\n",
    "                <li>Let tilgængeligt - især med Anaconda Navigator</li>\n",
    "                <li>Interaktivt - hvilket opfordrer til eksperimentering</li>\n",
    "                <li>Visuelt - og med billeder HTML i samme dokument</li>\n",
    "                <li>Samme platform kan bruges, først med Python og senere med R</li>\n",
    "            </ul>\n",
    "    </ul>\n",
    "    \n",
    "</details>"
   ]
  },
  {
   "cell_type": "markdown",
   "id": "a2581bf9-f826-41e2-a923-f0ee90025bec",
   "metadata": {
    "jp-MarkdownHeadingCollapsed": true,
    "tags": []
   },
   "source": [
    "# Machine learning eksempel"
   ]
  },
  {
   "cell_type": "markdown",
   "id": "ed2bd33b-dcf6-4558-98cc-1c09a649bf64",
   "metadata": {
    "tags": []
   },
   "source": [
    "## Step 1: Imports\n",
    "Herunder importerer jeg hhv. data pakker, machine learning pakker og model visualiseringspakkera\n"
   ]
  },
  {
   "cell_type": "code",
   "execution_count": null,
   "id": "81098e2e-fa9b-4faf-8926-4f12fd3a08f9",
   "metadata": {
    "tags": []
   },
   "outputs": [],
   "source": [
    "#Data wrangling imports\n",
    "import pandas as pd\n",
    "import numpy as np\n",
    "#Machine Learning Models Imports\n",
    "from sklearn import tree\n",
    "from sklearn.tree import DecisionTreeRegressor\n",
    "#Model Evaluation Imports and Visualization\n",
    "from matplotlib import pyplot as plt\n",
    "import graphviz"
   ]
  },
  {
   "cell_type": "markdown",
   "id": "07aa4ad3-df6c-4203-881a-071863deaf20",
   "metadata": {
    "tags": []
   },
   "source": [
    "## Step 2: Load training data\n",
    "Her indlæser jeg et datasæt med data på **40 counties** i California og deres tilhørende data der er relateret til COVID. De sidste **18 counties** mangler vi data på og **derfor** vil vi gerne lave denne model."
   ]
  },
  {
   "cell_type": "code",
   "execution_count": null,
   "id": "d1b0ead9-d087-46a1-9248-f0d224298045",
   "metadata": {
    "tags": []
   },
   "outputs": [],
   "source": [
    "#Her indlæser jeg datasættet med de 40 counties som jeg kender al data for\n",
    "S2020_training = pd.read_csv(\"https://raw.githubusercontent.com/MarcMachineLearning/Workshop_1/main/Datasets/S2020_training.csv\")\n",
    "S2020_training.head()"
   ]
  },
  {
   "cell_type": "markdown",
   "id": "acaa84bb-589a-4028-811c-6f7765899a26",
   "metadata": {
    "tags": []
   },
   "source": [
    "## Step 3: Kategoriser data som Label og Features\n",
    "Label er den værdi vi gerne vil forudsige og Features er al den data der kan give os viden om den forudsigelse.\n",
    "Det kan ses på nedenstående billede.\n",
    "<img src=\"Label-and-Features.jpg\" width = \"500\" height = \"250\">"
   ]
  },
  {
   "cell_type": "code",
   "execution_count": null,
   "id": "31ac5a59-66f6-42cb-9527-3062b6cb5731",
   "metadata": {
    "tags": []
   },
   "outputs": [],
   "source": [
    "#Her sorterer vi kolonnen med COVID tilfælde\n",
    "S2020_training_labels = S2020_training[\"cases_per_100000\"]\n",
    "\n",
    "#Her sorterer vi alle de andre kolonner, ved at fjerne både county og cases\n",
    "S2020_training_features = S2020_training.drop(columns=[\"county\", \"cases_per_100000\"])"
   ]
  },
  {
   "cell_type": "markdown",
   "id": "8692ee3f-8733-4fa9-9027-692581c1d9f5",
   "metadata": {},
   "source": [
    "## Step 4: Lav et decision tree"
   ]
  },
  {
   "cell_type": "code",
   "execution_count": null,
   "id": "05d78770-962f-4a54-95b8-8979187036fe",
   "metadata": {
    "tags": []
   },
   "outputs": [],
   "source": [
    "dtr_summer2020 = DecisionTreeRegressor(random_state = 1, max_depth=5)\n",
    "dtr_summer2020 = dtr_summer2020.fit(S2020_training_features, S2020_training_labels)"
   ]
  },
  {
   "cell_type": "markdown",
   "id": "53592eea-cc7f-4e06-bd38-0709e98aa5a5",
   "metadata": {
    "tags": []
   },
   "source": [
    "## Step 5: Visualiser decision tree"
   ]
  },
  {
   "cell_type": "code",
   "execution_count": null,
   "id": "541ad5e8-5822-4603-ba20-2aaf53b996d6",
   "metadata": {
    "tags": []
   },
   "outputs": [],
   "source": [
    "#Lav visualering af decision tree\n",
    "dtr_summer2020_dot = tree.export_graphviz(dtr_summer2020, out_file=None, \n",
    "                                          feature_names=S2020_training_features.columns, \n",
    "                                          filled=False, rounded=False, impurity=False)\n",
    "\n",
    "#Optegn selve træet\n",
    "dtr_graph = graphviz.Source(dtr_summer2020_dot, format=\"png\")\n",
    "dtr_graph"
   ]
  },
  {
   "cell_type": "markdown",
   "id": "2e50c0d8-c0d5-4f26-befa-6bdc37249c07",
   "metadata": {
    "tags": []
   },
   "source": [
    "## Step 6: Brug decision tree på vores testing data"
   ]
  },
  {
   "cell_type": "code",
   "execution_count": null,
   "id": "d1bc821a-7aac-4e7b-8f90-aa61557f389a",
   "metadata": {
    "tags": []
   },
   "outputs": [],
   "source": [
    "#Indlæs testing data som er de 18 counties hvor vi ikke kender COVID raten\n",
    "S2020_testing_features = pd.read_csv(\"https://raw.githubusercontent.com/MarcMachineLearning/Workshop_1/main/Datasets/S2020_test_features.csv\")\n",
    "S2020_features_test_nocounty = S2020_testing_features.drop(columns=[\"county\"])\n",
    "S2020_labels_pred = dtr_summer2020.predict(S2020_features_test_nocounty)"
   ]
  },
  {
   "cell_type": "code",
   "execution_count": null,
   "id": "a83d6192-630a-4434-9b78-8ace2e619885",
   "metadata": {
    "tags": []
   },
   "outputs": [],
   "source": [
    "#Vi laver de forudsagte værdier til et dataframe\n",
    "S2020_labels_preds_df = pd.DataFrame(S2020_labels_pred, columns=[\"Predicted\"])\n",
    "S2020_labels_preds_df = pd.concat([S2020_testing_features[\"county\"].reset_index(drop=True),S2020_labels_preds_df.reset_index(drop=True)],axis=1)\n",
    "S2020_labels_preds_df.round(3)"
   ]
  },
  {
   "cell_type": "markdown",
   "id": "cffa1770-1556-49cf-8fe8-df82cfaed20d",
   "metadata": {},
   "source": [
    "## Step 7: Hvor godt klarede vores model sig?\n",
    "\n",
    "Vi starter med at indlæse det reelle data så vi kan sammenligne med det forudsagte data."
   ]
  },
  {
   "cell_type": "code",
   "execution_count": null,
   "id": "bf24c00d-51bb-4413-b6da-693ebd1da466",
   "metadata": {
    "tags": []
   },
   "outputs": [],
   "source": [
    "S2020_testing_labels = pd.read_csv(\"https://raw.githubusercontent.com/MarcMachineLearning/Workshop_1/main/Datasets/S2020_test_labels.csv\")\n",
    "S2020_testing_labels = S2020_testing_labels.drop(columns=[\"county\"])"
   ]
  },
  {
   "cell_type": "code",
   "execution_count": null,
   "id": "f7032bb7-a398-4a8a-9c1f-962b5c3a199d",
   "metadata": {
    "tags": []
   },
   "outputs": [],
   "source": [
    "#Vi samler de forudsagte værdier med de reele værdier\n",
    "pred_vs_test_2020 = pd.concat([S2020_testing_labels.reset_index(drop=True),S2020_labels_preds_df.reset_index(drop=True)], axis=1)\n",
    "\n",
    "#Vi opstiller et søjlediagram\n",
    "pred_vs_test_plot = pred_vs_test_2020.plot.barh(color={\"Predicted\": \"orange\", \"cases_per_100000\": \"darkblue\"}, x= \"county\",figsize=(15,15), yticks=np.arange(0,4000,500))"
   ]
  },
  {
   "cell_type": "markdown",
   "id": "221cdf9b-9fb8-4d39-98c5-45c592b4dd0a",
   "metadata": {
    "tags": []
   },
   "source": [
    "## Step 8: Eksporter nyt data"
   ]
  },
  {
   "cell_type": "code",
   "execution_count": null,
   "id": "e5fb0076-08ac-4cff-8b80-01f8927612cb",
   "metadata": {
    "tags": []
   },
   "outputs": [],
   "source": [
    "pred_vs_test_2020.to_csv(\"Pred_vs_test_2020.csv\", sep = \";\", decimal = \",\")"
   ]
  },
  {
   "cell_type": "markdown",
   "id": "d6e036d1-96bf-4792-8fd1-1f59149e8938",
   "metadata": {
    "jp-MarkdownHeadingCollapsed": true,
    "tags": []
   },
   "source": [
    "# Widgets (nu i 2 forskellige versioner)\n",
    "1. version (som jeg viste på mødet): \n",
    "\n",
    "fra følgende promt til Chat GPT: \"Can you provide the code for an interactive normal distribution visualization in Jupyter Notebook?\""
   ]
  },
  {
   "cell_type": "code",
   "execution_count": 8,
   "id": "c6f2044c-550a-488a-b14a-71faa4062723",
   "metadata": {
    "tags": []
   },
   "outputs": [
    {
     "data": {
      "application/vnd.jupyter.widget-view+json": {
       "model_id": "47581496718445e48e4be803a75a2cce",
       "version_major": 2,
       "version_minor": 0
      },
      "text/plain": [
       "interactive(children=(FloatSlider(value=0.0, description='Mean', max=5.0, min=-5.0), FloatSlider(value=1.0, de…"
      ]
     },
     "metadata": {},
     "output_type": "display_data"
    },
    {
     "data": {
      "text/plain": [
       "<function __main__.plot_normal_distribution(mean, variance)>"
      ]
     },
     "execution_count": 8,
     "metadata": {},
     "output_type": "execute_result"
    }
   ],
   "source": [
    "import numpy as np\n",
    "import matplotlib.pyplot as plt\n",
    "from ipywidgets import interact, widgets\n",
    "\n",
    "def plot_normal_distribution(mean, variance):\n",
    "    x = np.linspace(-10, 10, 1000)\n",
    "    y = (1 / np.sqrt(2 * np.pi * variance)) * np.exp(-(x - mean)**2 / (2 * variance))\n",
    "\n",
    "    plt.figure(figsize=(8, 6))\n",
    "    plt.plot(x, y, label=f'N({mean}, {variance})')\n",
    "    plt.title('Normal Distribution')\n",
    "    plt.xlabel('X-axis')\n",
    "    plt.ylabel('Probability Density Function')\n",
    "    plt.legend()\n",
    "    plt.grid(True)\n",
    "    plt.show()\n",
    "\n",
    "# Create interactive widgets for mean and variance\n",
    "mean_widget = widgets.FloatSlider(value=0, min=-5, max=5, step=0.1, description='Mean')\n",
    "variance_widget = widgets.FloatSlider(value=1, min=0.1, max=5, step=0.1, description='Variance')\n",
    "\n",
    "# Create the interactive plot\n",
    "interact(plot_normal_distribution, mean=mean_widget, variance=variance_widget)"
   ]
  },
  {
   "cell_type": "markdown",
   "id": "55246085-7051-4615-a8c5-0a0e6d87f1c1",
   "metadata": {},
   "source": [
    "2. version: \n",
    "\n",
    "Her har jeg leget med ChatGPT for at lave en lidt lækrere model der har integreret mulighed for at gemme som enten HTML eller SVG (scalable vector graphic) fil.\n",
    "Man kan lege med de to parametre og når man er klar trykker man på en af gem knapperne og får den aktuelle version af grafen som en fil kaldet \"interaktiv_normal\"."
   ]
  },
  {
   "cell_type": "code",
   "execution_count": 28,
   "id": "0ff20278-92ab-4220-b279-becee944bb9f",
   "metadata": {
    "tags": []
   },
   "outputs": [
    {
     "data": {
      "application/vnd.jupyter.widget-view+json": {
       "model_id": "e8a42c2096a04c3dbb0b8d30c8805fa1",
       "version_major": 2,
       "version_minor": 0
      },
      "text/plain": [
       "interactive(children=(FloatSlider(value=0.0, description='Mean', max=5.0, min=-5.0), FloatSlider(value=1.0, de…"
      ]
     },
     "metadata": {},
     "output_type": "display_data"
    }
   ],
   "source": [
    "import numpy as np\n",
    "import plotly.graph_objs as go\n",
    "from ipywidgets import interact, widgets, HBox\n",
    "from plotly.subplots import make_subplots\n",
    "from plotly.io import to_image\n",
    "\n",
    "@interact(mean=widgets.FloatSlider(value=0, min=-5, max=5, step=0.1, description='Mean'),\n",
    "          variance=widgets.FloatSlider(value=1, min=0.1, max=5, step=0.1, description='Variance'))\n",
    "def plot_normal_distribution(mean, variance):\n",
    "    x = np.linspace(-10, 10, 1000)\n",
    "    y = (1 / np.sqrt(2 * np.pi * variance)) * np.exp(-(x - mean)**2 / (2 * variance))\n",
    "\n",
    "    # Create a plotly figure\n",
    "    fig = make_subplots(rows=1, cols=1)\n",
    "\n",
    "    # Add a trace for the normal distribution\n",
    "    trace = go.Scatter(x=x, y=y, mode='lines', name=f'N({mean}, {variance})')\n",
    "    fig.add_trace(trace)\n",
    "\n",
    "    # Update layout\n",
    "    fig.update_layout(title_text='Normal Distribution',\n",
    "                      xaxis_title='X-axis',\n",
    "                      yaxis_title='Probability Density Function')\n",
    "\n",
    "    # Show the figure\n",
    "    fig.show()\n",
    "\n",
    "    # Create Save as HTML button\n",
    "    html_button = widgets.Button(description='Save as HTML')\n",
    "    html_button.on_click(lambda x: save_plot(fig, format='html'))\n",
    "\n",
    "    # Create Save as SVG button\n",
    "    svg_button = widgets.Button(description='Save as SVG')\n",
    "    svg_button.on_click(lambda x: save_plot(fig, format='svg'))\n",
    "\n",
    "    # Display buttons\n",
    "    display(HBox([html_button, svg_button]))\n",
    "\n",
    "def save_plot(fig, format):\n",
    "    if format not in ['html', 'svg']:\n",
    "        print(f\"Unsupported format: {format}\")\n",
    "        return\n",
    "\n",
    "    # Specify the predefined file name\n",
    "    if format == 'html':\n",
    "        file_name = 'interaktiv_normal.html'\n",
    "        file_content = fig.to_html(full_html=False)\n",
    "    elif format == 'svg':\n",
    "        file_name = 'interaktiv_normal.svg'\n",
    "        file_content = to_image(fig, format=format, engine='orca')\n",
    "\n",
    "    with open(file_name, 'wb') as f:\n",
    "        f.write(file_content)"
   ]
  }
 ],
 "metadata": {
  "kernelspec": {
   "display_name": "Python 3 (ipykernel)",
   "language": "python",
   "name": "python3"
  },
  "language_info": {
   "codemirror_mode": {
    "name": "ipython",
    "version": 3
   },
   "file_extension": ".py",
   "mimetype": "text/x-python",
   "name": "python",
   "nbconvert_exporter": "python",
   "pygments_lexer": "ipython3",
   "version": "3.11.5"
  }
 },
 "nbformat": 4,
 "nbformat_minor": 5
}
